{
 "cells": [
  {
   "cell_type": "code",
   "execution_count": 6,
   "id": "c7ed8af2-5cb4-4228-b233-2153e9d54469",
   "metadata": {},
   "outputs": [],
   "source": [
    "import gymnasium as gym\n",
    "\n",
    "# Initialise the environment\n",
    "env = gym.make(\"LunarLander-v3\", render_mode=\"human\")\n",
    "\n",
    "# Reset the environment to generate the first observation\n",
    "observation, info = env.reset(seed=42)\n",
    "for _ in range(1000):\n",
    "    # this is where you would insert your policy\n",
    "    action = env.action_space.sample()\n",
    "\n",
    "    # step (transition) through the environment with the action\n",
    "    # receiving the next observation, reward and if the episode has terminated or truncated\n",
    "    observation, reward, terminated, truncated, info = env.step(action)\n",
    "\n",
    "    # If the episode has ended then we can reset to start a new episode\n",
    "    if terminated or truncated:\n",
    "        observation, info = env.reset()\n",
    "\n",
    "env.close()"
   ]
  },
  {
   "cell_type": "code",
   "execution_count": 2,
   "id": "f2e16df5-6b5b-45c8-a793-bded6e96e779",
   "metadata": {},
   "outputs": [
    {
     "name": "stdout",
     "output_type": "stream",
     "text": [
      "Collecting swig\n",
      "  Downloading swig-4.3.0-py2.py3-none-win_amd64.whl.metadata (3.5 kB)\n",
      "Downloading swig-4.3.0-py2.py3-none-win_amd64.whl (2.6 MB)\n",
      "   ---------------------------------------- 0.0/2.6 MB ? eta -:--:--\n",
      "   ---------------------------------------- 2.6/2.6 MB 24.4 MB/s eta 0:00:00\n",
      "Installing collected packages: swig\n",
      "Successfully installed swig-4.3.0\n"
     ]
    }
   ],
   "source": [
    "!pip install swig"
   ]
  },
  {
   "cell_type": "code",
   "execution_count": 5,
   "id": "23eeef25-8b5f-49ca-a6c8-78f5b19c4ce1",
   "metadata": {},
   "outputs": [
    {
     "name": "stdout",
     "output_type": "stream",
     "text": [
      "Requirement already satisfied: gymnasium[box2d] in c:\\users\\enrique\\anaconda3\\envs\\llm\\lib\\site-packages (1.0.0)\n",
      "Requirement already satisfied: numpy>=1.21.0 in c:\\users\\enrique\\anaconda3\\envs\\llm\\lib\\site-packages (from gymnasium[box2d]) (1.26.4)\n",
      "Requirement already satisfied: cloudpickle>=1.2.0 in c:\\users\\enrique\\anaconda3\\envs\\llm\\lib\\site-packages (from gymnasium[box2d]) (3.1.0)\n",
      "Requirement already satisfied: typing-extensions>=4.3.0 in c:\\users\\enrique\\anaconda3\\envs\\llm\\lib\\site-packages (from gymnasium[box2d]) (4.11.0)\n",
      "Requirement already satisfied: farama-notifications>=0.0.1 in c:\\users\\enrique\\anaconda3\\envs\\llm\\lib\\site-packages (from gymnasium[box2d]) (0.0.4)\n",
      "Requirement already satisfied: importlib-metadata>=4.8.0 in c:\\users\\enrique\\anaconda3\\envs\\llm\\lib\\site-packages (from gymnasium[box2d]) (8.5.0)\n",
      "Requirement already satisfied: box2d-py==2.3.5 in c:\\users\\enrique\\anaconda3\\envs\\llm\\lib\\site-packages (from gymnasium[box2d]) (2.3.5)\n",
      "Requirement already satisfied: pygame>=2.1.3 in c:\\users\\enrique\\anaconda3\\envs\\llm\\lib\\site-packages (from gymnasium[box2d]) (2.6.1)\n",
      "Requirement already satisfied: swig==4.* in c:\\users\\enrique\\anaconda3\\envs\\llm\\lib\\site-packages (from gymnasium[box2d]) (4.3.0)\n",
      "Requirement already satisfied: zipp>=3.20 in c:\\users\\enrique\\anaconda3\\envs\\llm\\lib\\site-packages (from importlib-metadata>=4.8.0->gymnasium[box2d]) (3.21.0)\n"
     ]
    }
   ],
   "source": [
    "!pip install \"gymnasium[box2d]\""
   ]
  },
  {
   "cell_type": "code",
   "execution_count": null,
   "id": "4c565f35-ee88-4ca0-b50e-ea195c62a857",
   "metadata": {},
   "outputs": [],
   "source": []
  }
 ],
 "metadata": {
  "kernelspec": {
   "display_name": "Python 3 (ipykernel)",
   "language": "python",
   "name": "python3"
  },
  "language_info": {
   "codemirror_mode": {
    "name": "ipython",
    "version": 3
   },
   "file_extension": ".py",
   "mimetype": "text/x-python",
   "name": "python",
   "nbconvert_exporter": "python",
   "pygments_lexer": "ipython3",
   "version": "3.9.21"
  }
 },
 "nbformat": 4,
 "nbformat_minor": 5
}
